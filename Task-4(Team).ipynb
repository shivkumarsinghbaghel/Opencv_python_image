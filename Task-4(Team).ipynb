{
 "cells": [
  {
   "cell_type": "markdown",
   "metadata": {},
   "source": [
    "# Task 4.1\n",
    "### Create image by yourself Using Python Code "
   ]
  },
  {
   "cell_type": "code",
   "execution_count": 1,
   "metadata": {},
   "outputs": [],
   "source": [
    "import cv2\n",
    "import numpy as np\n",
    "path = np.zeros((500,500,3))*250\n",
    "# Window name in which image is displayed\n",
    "window_name = 'Image'\n",
    "  \n",
    "# Center coordinates\n",
    "center_coordinates = (250, 250)\n",
    "center_coordinates1 = (230, 220)\n",
    "center_coordinates2 = (270, 220)\n",
    "\n",
    "# Radius of circle\n",
    "radius = 75\n",
    "radius1 = 5\n",
    "\n",
    "  \n",
    "# Blue color in BGR\n",
    "color = (234, 0, 0)\n",
    "font = cv2.FONT_ITALIC\n",
    "  \n",
    "# Line thickness of 2 px\n",
    "thickness = 3\n",
    "\n",
    "# Using cv2.circle() method\n",
    "# Draw a circle with blue line borders of thickness of 2 px\n",
    "image = cv2.circle(path,center_coordinates , radius, (256,0,0), thickness)\n",
    "image1 = cv2.circle(path, center_coordinates1, radius1, color, thickness) \n",
    "image2 = cv2.circle(path, center_coordinates2, radius1, color, thickness)\n",
    "cv2.putText(path,('HAPPY'),(158,128), font,2,(255,0,255),3,cv2.LINE_8)\n",
    "\n",
    "\n",
    "# Displaying the image\n",
    "for i in range(30):\n",
    "    cv2.waitKey(100)\n",
    "    for j in range(20):\n",
    "            image3 = cv2.ellipse(path,(250,265),(i,j),0,0,180,255,2)\n",
    "            cv2.imshow(window_name, path)          \n",
    "cv2.destroyAllWindows()"
   ]
  },
  {
   "cell_type": "markdown",
   "metadata": {},
   "source": [
    "# Task 4.2\n",
    "### Take 2 image crop some part of both image and swap it. "
   ]
  },
  {
   "cell_type": "code",
   "execution_count": 2,
   "metadata": {},
   "outputs": [],
   "source": [
    "import cv2\n",
    "img1 = cv2.imread(\"img1.jpg\")\n",
    "cv2.imshow(\"Image1\",img1)\n",
    "cv2.waitKey()\n",
    "cv2.destroyAllWindows()\n",
    "img2 = cv2.imread(\"img2.jpg\")\n",
    "cv2.imshow(\"Image2\",img2)\n",
    "cv2.waitKey()\n",
    "cv2.destroyAllWindows()\n",
    "img1_crop=img1[40:200,60:160]\n",
    "cv2.imwrite(\"img1_crop.jpeg\",img1_crop)\n",
    "img2_crop=img2[20:180,40:200]\n",
    "cv2.imwrite(\"img2_crop.jpeg\",img2_crop)\n",
    "img1_crop = cv2.imread(\"img1_crop.jpeg\")\n",
    "img2[20:180,100:200]=img1_crop\n",
    "cv2.imshow(\"Swap Image1\",img2)\n",
    "cv2.waitKey()\n",
    "cv2.destroyAllWindows()\n",
    "img2_crop = cv2.imread(\"img2_crop.jpeg\")\n",
    "img1[20:180,40:200]=img2_crop\n",
    "cv2.imshow(\"Swap Image2\",img1)\n",
    "cv2.waitKey()\n",
    "cv2.destroyAllWindows()"
   ]
  },
  {
   "cell_type": "markdown",
   "metadata": {},
   "source": [
    "# Task 4.3\n",
    "### Take 2 image and combine it to form single image. For example collage "
   ]
  },
  {
   "cell_type": "code",
   "execution_count": 3,
   "metadata": {},
   "outputs": [],
   "source": [
    "import numpy as np\n",
    "import cv2 as cv\n",
    "com_img1 = cv2.imread('img1.jpg', cv2.IMREAD_COLOR)\n",
    "com_img2 = cv2.imread('img3.jpg', cv2.IMREAD_COLOR)\n",
    "cv2.imshow(\"Image1\",com_img1)\n",
    "cv2.waitKey(0)\n",
    "cv2.destroyAllWindows()\n",
    "cv2.imshow(\"Image\",com_img2)\n",
    "cv2.waitKey(0)\n",
    "cv2.destroyAllWindows()\n",
    "dim = (225, 300) \n",
    "resized_com_img1 = cv2.resize(com_img1, dim, interpolation = cv2.INTER_AREA)\n",
    "resized_com_img2 = cv2.resize(com_img2, dim, interpolation = cv2.INTER_AREA)\n",
    "m=np.hstack([resized_com_img1,resized_com_img2])\n",
    "cv2.imshow(\"Final Collage\",m)\n",
    "cv2.waitKey(0)\n",
    "cv2.destroyAllWindows()"
   ]
  },
  {
   "cell_type": "code",
   "execution_count": null,
   "metadata": {},
   "outputs": [],
   "source": [
    "Thanks for watching"
   ]
  },
  {
   "cell_type": "code",
   "execution_count": null,
   "metadata": {},
   "outputs": [],
   "source": []
  }
 ],
 "metadata": {
  "kernelspec": {
   "display_name": "Python 3",
   "language": "python",
   "name": "python3"
  },
  "language_info": {
   "codemirror_mode": {
    "name": "ipython",
    "version": 3
   },
   "file_extension": ".py",
   "mimetype": "text/x-python",
   "name": "python",
   "nbconvert_exporter": "python",
   "pygments_lexer": "ipython3",
   "version": "3.8.3"
  }
 },
 "nbformat": 4,
 "nbformat_minor": 5
}
